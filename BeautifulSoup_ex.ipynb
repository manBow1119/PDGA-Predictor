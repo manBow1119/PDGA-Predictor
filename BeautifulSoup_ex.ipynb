{
 "cells": [
  {
   "cell_type": "code",
   "execution_count": 1,
   "id": "0f49abcd",
   "metadata": {},
   "outputs": [],
   "source": [
    "# import dependencies\n",
    "import requests\n",
    "from bs4 import BeautifulSoup\n",
    "import time\n"
   ]
  },
  {
   "cell_type": "code",
   "execution_count": 2,
   "id": "4d3a23e5",
   "metadata": {},
   "outputs": [],
   "source": [
    "# get url and parse HTML\n",
    "\n",
    "url = 'https://finance.yahoo.com/cryptocurrencies/'\n",
    "response = requests.get(url)\n",
    "text = response.text\n",
    "data = BeautifulSoup(text, 'html.parser')"
   ]
  },
  {
   "cell_type": "code",
   "execution_count": 3,
   "id": "0d580636",
   "metadata": {},
   "outputs": [
    {
     "name": "stdout",
     "output_type": "stream",
     "text": [
      "Headings are: \n",
      "\n",
      "\n",
      "\n",
      "\n",
      "Will be right back...\n",
      "Thank you for your patience.\n",
      "Our engineers are working quickly to resolve the issue.\n",
      "\n",
      "\n",
      "\n"
     ]
    }
   ],
   "source": [
    "# get crypto table headings\n",
    "headings = data.find_all('tr')[0]\n",
    "headings_list = []\n",
    "\n",
    "for x in headings:\n",
    "    headings_list.append(x.text)\n",
    "\n",
    "    # only need first ten columns\n",
    "headings_list = headings_list[:10]\n",
    "                             \n",
    "print(f'Headings are: ')\n",
    "for heading in headings_list:\n",
    "    print(heading)"
   ]
  },
  {
   "cell_type": "code",
   "execution_count": null,
   "id": "3d9d091f",
   "metadata": {},
   "outputs": [],
   "source": []
  }
 ],
 "metadata": {
  "kernelspec": {
   "display_name": "Python 3 (ipykernel)",
   "language": "python",
   "name": "python3"
  },
  "language_info": {
   "codemirror_mode": {
    "name": "ipython",
    "version": 3
   },
   "file_extension": ".py",
   "mimetype": "text/x-python",
   "name": "python",
   "nbconvert_exporter": "python",
   "pygments_lexer": "ipython3",
   "version": "3.9.12"
  }
 },
 "nbformat": 4,
 "nbformat_minor": 5
}
