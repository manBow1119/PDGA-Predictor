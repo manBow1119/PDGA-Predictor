{
 "cells": [
  {
   "cell_type": "markdown",
   "id": "297a3b63",
   "metadata": {},
   "source": [
    "## Making a Web Scraper"
   ]
  },
  {
   "cell_type": "code",
   "execution_count": null,
   "id": "d3f5a6a8",
   "metadata": {},
   "outputs": [],
   "source": [
    "# import dependencies\n",
    "import time\n",
    "from selenium import webdriver\n",
    "from datetime import datetime"
   ]
  },
  {
   "cell_type": "markdown",
   "id": "dd60c70c",
   "metadata": {},
   "source": [
    "## Opening the website"
   ]
  },
  {
   "cell_type": "code",
   "execution_count": null,
   "id": "8b7a6a48",
   "metadata": {},
   "outputs": [],
   "source": [
    "# path of the chromedriver\n",
    "chrome_driver = webdriver.Chrome('/Users/bowbrannon3/Documents/Data_Science/chromedriver')"
   ]
  },
  {
   "cell_type": "code",
   "execution_count": null,
   "id": "bfbcb019",
   "metadata": {},
   "outputs": [],
   "source": [
    "# url of website to be scraped - google news, for example\n",
    "url = \"https://news.google.com/topstories?hl=en-IN&gl=IN&ceid=IN:en\"\n",
    "\n",
    "# to open the url in browser\n",
    "chrome_driver.get(url)"
   ]
  },
  {
   "cell_type": "code",
   "execution_count": null,
   "id": "8aad09a4",
   "metadata": {},
   "outputs": [],
   "source": [
    "# full xpath to news article link\n",
    "news_path = '/html/body/c-wiz[1]/div/div[2]/div[2]/div/main/c-wiz/div[1]/div[1]/div[3]/div/div/article/h3/a'\n",
    "\n",
    "# get that article\n",
    "# link = chrome_driver.find_element_by_xpath(news_path)--deprecated method\n",
    "link = chrome_driver.find_element(\"xpath\", news_path)\n",
    "\n",
    "# read the text of article\n",
    "print(link.text)"
   ]
  },
  {
   "cell_type": "markdown",
   "id": "c6269c7c",
   "metadata": {},
   "source": [
    "### Repeat for second article to determine pattern for iterative scraping\n"
   ]
  },
  {
   "cell_type": "code",
   "execution_count": null,
   "id": "27602824",
   "metadata": {},
   "outputs": [],
   "source": [
    "# full xpath to second aricle \n",
    "news_path = '/html/body/c-wiz[1]/div/div[2]/div[2]/div/main/c-wiz/div[1]/div[1]/div[3]/div/div/div[1]/article[1]/h4/a'\n",
    "news_path2 = '/html/body/c-wiz[1]/div/div[2]/div[2]/div/main/c-wiz/div[1]/div[1]/div[3]/div/div/div[1]/article[2]/h4/a'\n",
    "\n",
    "# get element\n",
    "link = chrome_driver.find_element('xpath', news_path)\n",
    "link2 = chrome_driver.find_element('xpath', news_path2)\n",
    "# read the text of second headline\n",
    "print(link.text)\n",
    "print(link2.text)\n",
    "\n",
    "#these two are very similar, we can iterate after the first article"
   ]
  },
  {
   "cell_type": "markdown",
   "id": "c41b9587",
   "metadata": {},
   "source": [
    "## Optimizing scraper to grab second through fifth article\n"
   ]
  },
  {
   "cell_type": "code",
   "execution_count": null,
   "id": "670f2b76",
   "metadata": {},
   "outputs": [],
   "source": [
    "# f strings used for path string\n",
    "art_num = 1\n",
    "for x in range (1,5):\n",
    "    print(f'Article Title {art_num}') \n",
    "    art_num +=1\n",
    "    path = f'/html/body/c-wiz[1]/div/div[2]/div[2]/div/main/c-wiz/div[1]/div[1]/div[3]/div/div/div[1]/article[{x}]/h4/a'\n",
    "    title = chrome_driver.find_element('xpath',path)\n",
    "    print(title.text)"
   ]
  },
  {
   "cell_type": "markdown",
   "id": "79597104",
   "metadata": {},
   "source": [
    "## Automate with while loop and timer"
   ]
  },
  {
   "cell_type": "code",
   "execution_count": 1,
   "id": "bd5d0e25",
   "metadata": {},
   "outputs": [
    {
     "name": "stderr",
     "output_type": "stream",
     "text": [
      "/var/folders/0y/p5wv0k811bxbr5bsf_fjdm3w0000gn/T/ipykernel_20894/95604056.py:8: DeprecationWarning: executable_path has been deprecated, please pass in a Service object\n",
      "  driver = webdriver.Chrome(PATH)\n"
     ]
    },
    {
     "name": "stdout",
     "output_type": "stream",
     "text": [
      "At current time: 00:00:51 CST\n",
      "Article Title 1: \n",
      "CJI sends recommendation to govt, Justice Uday Umesh Lalit set to be his successor\n",
      "Article Title 2: \n",
      "Chief Justice of India NV Ramana names Justice UU Lalit his successor | All You Need To Know\n",
      "Article Title 3: \n",
      "UU Lalit To Be Next Chief Justice As Name Formally Shared, Will Have 74-Day Tenure\n",
      "Article Title 4: \n",
      "CJI Ramana Proposes Justice Lalit As The Next Chief Justice of India\n",
      "Article Title 5: \n",
      "Justice UU Lalit profile\n",
      "At current time: 00:10:51 CST\n",
      "Article Title 1: \n",
      "CJI sends recommendation to govt, Justice Uday Umesh Lalit set to be his successor\n",
      "Article Title 2: \n",
      "Chief Justice of India NV Ramana names Justice UU Lalit his successor | All You Need To Know\n",
      "Article Title 3: \n",
      "UU Lalit To Be Next Chief Justice As Name Formally Shared, Will Have 74-Day Tenure\n",
      "Article Title 4: \n",
      "CJI Ramana Proposes Justice Lalit As The Next Chief Justice of India\n",
      "Article Title 5: \n",
      "Justice UU Lalit profile\n"
     ]
    },
    {
     "ename": "KeyboardInterrupt",
     "evalue": "",
     "output_type": "error",
     "traceback": [
      "\u001b[0;31m---------------------------------------------------------------------------\u001b[0m",
      "\u001b[0;31mKeyboardInterrupt\u001b[0m                         Traceback (most recent call last)",
      "Input \u001b[0;32mIn [1]\u001b[0m, in \u001b[0;36m<cell line: 15>\u001b[0;34m()\u001b[0m\n\u001b[1;32m     38\u001b[0m     art_num \u001b[38;5;241m+\u001b[39m\u001b[38;5;241m=\u001b[39m\u001b[38;5;241m1\u001b[39m\n\u001b[1;32m     40\u001b[0m \u001b[38;5;66;03m#stop while loop for ten minutes\u001b[39;00m\n\u001b[0;32m---> 41\u001b[0m \u001b[43mtime\u001b[49m\u001b[38;5;241;43m.\u001b[39;49m\u001b[43msleep\u001b[49m\u001b[43m(\u001b[49m\u001b[38;5;241;43m600\u001b[39;49m\u001b[43m)\u001b[49m\n",
      "\u001b[0;31mKeyboardInterrupt\u001b[0m: "
     ]
    }
   ],
   "source": [
    "# All in one go\n",
    "import time\n",
    "from selenium import webdriver\n",
    "from datetime import datetime\n",
    "\n",
    "PATH = '/Users/bowbrannon3/Documents/Data_Science/chromedriver'\n",
    "\n",
    "driver = webdriver.Chrome(PATH)\n",
    "url = 'https://news.google.com/topstories?hl=en-IN&gl=IN&ceid=IN:en'\n",
    "driver.get(url)\n",
    "\n",
    "while (True):\n",
    "    \n",
    "    # track changes\n",
    "    now = datetime.now()\n",
    "    current_time = now.strftime(\"%H:%M:%S\")\n",
    "    print(f'At current time: {current_time} CST')\n",
    "    \n",
    "    #get first article\n",
    "    art1_path = '/html/body/c-wiz[1]/div/div[2]/div[2]/div/main/c-wiz/div[1]/div[1]/div[3]/div/div/article/h3/a'\n",
    "    title = driver.find_element('xpath', art1_path)\n",
    "    print(f'Article Title 1: ')\n",
    "    print(title.text)\n",
    "    \n",
    "    #get next 4\n",
    "    art_num = 2\n",
    "    for x in range(1,5):\n",
    "        current_path = ''\n",
    "        \n",
    "        # handle exceptions if website changes structure\n",
    "        try:\n",
    "            current_path = f'/html/body/c-wiz[1]/div/div[2]/div[2]/div/main/c-wiz/div[1]/div[1]/div[3]/div/div/div[1]/article[{x}]/h4/a'\n",
    "        except:\n",
    "            continue\n",
    "        title = driver.find_element('xpath',current_path)\n",
    "        print(f'Article Title {art_num}: ')\n",
    "        print(title.text)\n",
    "        art_num +=1\n",
    "            \n",
    "    #stop while loop for ten minutes\n",
    "    time.sleep(600)\n",
    "    "
   ]
  },
  {
   "cell_type": "code",
   "execution_count": null,
   "id": "5b4d94c8",
   "metadata": {},
   "outputs": [],
   "source": []
  }
 ],
 "metadata": {
  "kernelspec": {
   "display_name": "Python 3 (ipykernel)",
   "language": "python",
   "name": "python3"
  },
  "language_info": {
   "codemirror_mode": {
    "name": "ipython",
    "version": 3
   },
   "file_extension": ".py",
   "mimetype": "text/x-python",
   "name": "python",
   "nbconvert_exporter": "python",
   "pygments_lexer": "ipython3",
   "version": "3.9.12"
  }
 },
 "nbformat": 4,
 "nbformat_minor": 5
}
