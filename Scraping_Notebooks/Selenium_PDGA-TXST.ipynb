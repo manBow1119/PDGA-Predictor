{
 "cells": [
  {
   "cell_type": "markdown",
   "id": "297a3b63",
   "metadata": {},
   "source": [
    "## Making a Web Scraper- Mid America Open\n"
   ]
  },
  {
   "cell_type": "code",
   "execution_count": 1,
   "id": "d3f5a6a8",
   "metadata": {},
   "outputs": [],
   "source": [
    "# import dependencies\n",
    "import time\n",
    "from selenium import webdriver\n",
    "from datetime import datetime"
   ]
  },
  {
   "cell_type": "markdown",
   "id": "dd60c70c",
   "metadata": {},
   "source": [
    "## Opening the website"
   ]
  },
  {
   "cell_type": "code",
   "execution_count": 2,
   "id": "8b7a6a48",
   "metadata": {},
   "outputs": [
    {
     "name": "stderr",
     "output_type": "stream",
     "text": [
      "/var/folders/0y/p5wv0k811bxbr5bsf_fjdm3w0000gn/T/ipykernel_41040/158780501.py:2: DeprecationWarning: executable_path has been deprecated, please pass in a Service object\n",
      "  chrome_driver = webdriver.Chrome('/Users/bowbrannon3/Documents/Data_Science/chromedriver')\n"
     ]
    }
   ],
   "source": [
    "# path of the chromedriver\n",
    "chrome_driver = webdriver.Chrome('/Users/bowbrannon3/Documents/Data_Science/chromedriver')"
   ]
  },
  {
   "cell_type": "code",
   "execution_count": 3,
   "id": "bfbcb019",
   "metadata": {},
   "outputs": [],
   "source": [
    "# url of website to be scraped - event number for \"Champions Cup\"\n",
    "url = \"https://www.pdga.com/tour/event/55583\"\n",
    "\n",
    "# to open the url in browser\n",
    "chrome_driver.get(url)"
   ]
  },
  {
   "cell_type": "markdown",
   "id": "a2a730ec",
   "metadata": {},
   "source": [
    "## Navigate to Event and collect round ratings for top 25 players"
   ]
  },
  {
   "cell_type": "code",
   "execution_count": 5,
   "id": "8aad09a4",
   "metadata": {},
   "outputs": [
    {
     "name": "stdout",
     "output_type": "stream",
     "text": [
      "Hide round ratings\n"
     ]
    }
   ],
   "source": [
    "# navigate to scores table, and click 'show round ratings'\n",
    "ratings = '/html/body/div[4]/section/div/div/div/div/div/div/div/div/div/div/div[11]/div/div[2]/details[1]/div[135]/a[1]'\n",
    "\n",
    "# get that article\n",
    "link = chrome_driver.find_element(\"xpath\", ratings)\n",
    "#click to open\n",
    "link.click()\n",
    "\n",
    "# read the text of article\n",
    "print(link.text)"
   ]
  },
  {
   "cell_type": "markdown",
   "id": "c41b9587",
   "metadata": {},
   "source": [
    "## Iterating through top 25  \n"
   ]
  },
  {
   "cell_type": "code",
   "execution_count": 6,
   "id": "db14b8a0",
   "metadata": {},
   "outputs": [],
   "source": [
    "import numpy as np\n",
    "# create arrays to store info for dataframes\n",
    "places = np.arange(1,26)\n",
    "names = []\n",
    "rd1_ratings = []\n",
    "rd2_ratings = []\n",
    "rd3_ratings = []\n",
    "rd4_ratings = []\n",
    "payouts = []\n"
   ]
  },
  {
   "cell_type": "code",
   "execution_count": 7,
   "id": "670f2b76",
   "metadata": {},
   "outputs": [
    {
     "name": "stdout",
     "output_type": "stream",
     "text": [
      "1 Scores:\n",
      "1060\n",
      "1 Scores:\n",
      "1081\n",
      "1 Scores:\n",
      "1074\n",
      "2 Scores:\n",
      "1074\n",
      "2 Scores:\n",
      "1081\n",
      "2 Scores:\n",
      "1053\n",
      "3 Scores:\n",
      "1067\n",
      "3 Scores:\n",
      "1053\n",
      "3 Scores:\n",
      "1067\n",
      "4 Scores:\n",
      "1074\n",
      "4 Scores:\n",
      "1046\n",
      "4 Scores:\n",
      "1039\n",
      "5 Scores:\n",
      "1060\n",
      "5 Scores:\n",
      "1032\n",
      "5 Scores:\n",
      "1067\n",
      "6 Scores:\n",
      "1053\n",
      "6 Scores:\n",
      "1046\n",
      "6 Scores:\n",
      "1032\n",
      "7 Scores:\n",
      "1053\n",
      "7 Scores:\n",
      "1018\n",
      "7 Scores:\n",
      "1053\n",
      "8 Scores:\n",
      "1053\n",
      "8 Scores:\n",
      "1046\n",
      "8 Scores:\n",
      "1018\n",
      "9 Scores:\n",
      "1067\n",
      "9 Scores:\n",
      "1039\n",
      "9 Scores:\n",
      "1011\n",
      "10 Scores:\n",
      "1088\n",
      "10 Scores:\n",
      "1004\n",
      "10 Scores:\n",
      "1025\n",
      "11 Scores:\n",
      "1053\n",
      "11 Scores:\n",
      "1039\n",
      "11 Scores:\n",
      "1018\n",
      "12 Scores:\n",
      "1018\n",
      "12 Scores:\n",
      "1018\n",
      "12 Scores:\n",
      "1074\n",
      "13 Scores:\n",
      "1046\n",
      "13 Scores:\n",
      "1025\n",
      "13 Scores:\n",
      "1032\n",
      "14 Scores:\n",
      "1032\n",
      "14 Scores:\n",
      "1039\n",
      "14 Scores:\n",
      "1032\n",
      "15 Scores:\n",
      "1046\n",
      "15 Scores:\n",
      "1032\n",
      "15 Scores:\n",
      "1018\n",
      "16 Scores:\n",
      "1018\n",
      "16 Scores:\n",
      "1053\n",
      "16 Scores:\n",
      "1025\n",
      "17 Scores:\n",
      "1032\n",
      "17 Scores:\n",
      "1046\n",
      "17 Scores:\n",
      "1018\n",
      "18 Scores:\n",
      "1032\n",
      "18 Scores:\n",
      "1018\n",
      "18 Scores:\n",
      "1046\n",
      "19 Scores:\n",
      "1039\n",
      "19 Scores:\n",
      "1053\n",
      "19 Scores:\n",
      "1004\n",
      "20 Scores:\n",
      "1053\n",
      "20 Scores:\n",
      "1025\n",
      "20 Scores:\n",
      "1011\n",
      "21 Scores:\n",
      "1032\n",
      "21 Scores:\n",
      "1018\n",
      "21 Scores:\n",
      "1039\n",
      "22 Scores:\n",
      "1039\n",
      "22 Scores:\n",
      "982\n",
      "22 Scores:\n",
      "1067\n",
      "23 Scores:\n",
      "1032\n",
      "23 Scores:\n",
      "1039\n",
      "23 Scores:\n",
      "1011\n",
      "24 Scores:\n",
      "1004\n",
      "24 Scores:\n",
      "1046\n",
      "24 Scores:\n",
      "1032\n",
      "25 Scores:\n",
      "1025\n",
      "25 Scores:\n",
      "1011\n",
      "25 Scores:\n",
      "1039\n"
     ]
    }
   ],
   "source": [
    "# get info from top 25 players and add to arrays\n",
    "place = 1\n",
    "for x in range (1,26):\n",
    "    #print(f'Place {place}:') \n",
    "    #place +=1\n",
    "    name_path = f'/html/body/div[4]/section/div/div/div/div/div/div/div/div/div/div/div[11]/div/div[2]/details[1]/div[136]/table[2]/tbody/tr[{x}]/td[3]/a'\n",
    "    title = chrome_driver.find_element('xpath',name_path)\n",
    "    #add to names array\n",
    "    names.append(title.text)\n",
    "    \n",
    "    # iterating through round ratings- only 3 rounds this tournament\n",
    "    for y in range(8,13,2):\n",
    "        rd_path = f'/html/body/div[4]/section/div/div/div/div/div/div/div/div/div/div/div[11]/div/div[2]/details[1]/div[136]/table[2]/tbody/tr[{x}]/td[{y}]'\n",
    "        score = chrome_driver.find_element('xpath', rd_path).text\n",
    "        \n",
    "        if (y/2-3==1):\n",
    "            rd1_ratings.append(score)\n",
    "        elif (y/2-3==2):\n",
    "            rd2_ratings.append(score)\n",
    "        elif (y/2-3==3):\n",
    "            rd3_ratings.append(score)\n",
    "        else:\n",
    "            rd4_ratings.append(score)\n",
    "        \n",
    "        print(f'{x} Scores:')\n",
    "        print(score)\n",
    "    pay_path = f'/html/body/div[4]/section/div/div/div/div/div/div/div/div/div/div/div[11]/div/div[2]/details[1]/div[136]/table[2]/tbody/tr[{x}]/td[14]'\n",
    "    cash = chrome_driver.find_element('xpath',pay_path).text\n",
    "    payouts.append(cash)\n"
   ]
  },
  {
   "cell_type": "code",
   "execution_count": 8,
   "id": "2279f14f",
   "metadata": {},
   "outputs": [
    {
     "name": "stdout",
     "output_type": "stream",
     "text": [
      "$8,000\n",
      "$5,000\n",
      "$3,270\n",
      "$2,251\n",
      "$2,251\n",
      "$1,750\n",
      "$1,600\n",
      "$1,317\n",
      "$1,317\n",
      "$1,317\n",
      "$1,050\n",
      "$1,050\n",
      "$925\n",
      "$925\n",
      "$788\n",
      "$788\n",
      "$788\n",
      "$788\n",
      "$788\n",
      "$675\n",
      "$675\n",
      "$675\n",
      "$613\n",
      "$613\n",
      "$512\n"
     ]
    }
   ],
   "source": [
    "#testing \n",
    "for payout in payouts:\n",
    "    print(payout)"
   ]
  },
  {
   "cell_type": "code",
   "execution_count": 9,
   "id": "32163d39",
   "metadata": {},
   "outputs": [],
   "source": [
    "## Create Dataframe from arrays\n",
    "import pandas as pd\n",
    "\n",
    "TXST_22 = pd.DataFrame({\"Place\":places, \"Name\": names, \"Round_1\":rd1_ratings, \"Round_2\": rd2_ratings, \"Round_3\": rd3_ratings, \"Payout\": payouts})\n",
    "TXST_22.head(20)\n",
    "TXST_22.to_csv(\"Tournament_CSVs/TXST.csv\")"
   ]
  },
  {
   "cell_type": "code",
   "execution_count": null,
   "id": "2460e02a",
   "metadata": {},
   "outputs": [],
   "source": []
  }
 ],
 "metadata": {
  "kernelspec": {
   "display_name": "Python 3 (ipykernel)",
   "language": "python",
   "name": "python3"
  },
  "language_info": {
   "codemirror_mode": {
    "name": "ipython",
    "version": 3
   },
   "file_extension": ".py",
   "mimetype": "text/x-python",
   "name": "python",
   "nbconvert_exporter": "python",
   "pygments_lexer": "ipython3",
   "version": "3.9.12"
  }
 },
 "nbformat": 4,
 "nbformat_minor": 5
}
