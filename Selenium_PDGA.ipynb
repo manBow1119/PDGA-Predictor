{
 "cells": [
  {
   "cell_type": "markdown",
   "id": "297a3b63",
   "metadata": {},
   "source": [
    "## Making a Web Scraper"
   ]
  },
  {
   "cell_type": "code",
   "execution_count": 1,
   "id": "d3f5a6a8",
   "metadata": {},
   "outputs": [],
   "source": [
    "# import dependencies\n",
    "import time\n",
    "from selenium import webdriver\n",
    "from datetime import datetime"
   ]
  },
  {
   "cell_type": "markdown",
   "id": "dd60c70c",
   "metadata": {},
   "source": [
    "## Opening the website"
   ]
  },
  {
   "cell_type": "code",
   "execution_count": 2,
   "id": "8b7a6a48",
   "metadata": {},
   "outputs": [
    {
     "name": "stderr",
     "output_type": "stream",
     "text": [
      "/var/folders/0y/p5wv0k811bxbr5bsf_fjdm3w0000gn/T/ipykernel_21207/158780501.py:2: DeprecationWarning: executable_path has been deprecated, please pass in a Service object\n",
      "  chrome_driver = webdriver.Chrome('/Users/bowbrannon3/Documents/Data_Science/chromedriver')\n"
     ]
    }
   ],
   "source": [
    "# path of the chromedriver\n",
    "chrome_driver = webdriver.Chrome('/Users/bowbrannon3/Documents/Data_Science/chromedriver')"
   ]
  },
  {
   "cell_type": "code",
   "execution_count": 3,
   "id": "bfbcb019",
   "metadata": {},
   "outputs": [],
   "source": [
    "# url of website to be scraped - event number for \"Champions Cup\"\n",
    "url = \"https://www.pdga.com/tour/event/55451\"\n",
    "\n",
    "# to open the url in browser\n",
    "chrome_driver.get(url)"
   ]
  },
  {
   "cell_type": "markdown",
   "id": "83b27147",
   "metadata": {},
   "source": [
    "## Navigate to Event and collect round ratings for top 25 players"
   ]
  },
  {
   "cell_type": "code",
   "execution_count": 4,
   "id": "8aad09a4",
   "metadata": {},
   "outputs": [
    {
     "name": "stdout",
     "output_type": "stream",
     "text": [
      "Hide round ratings\n"
     ]
    }
   ],
   "source": [
    "# navigate to scores table, and click 'show round ratings'\n",
    "ratings = '/html/body/div[4]/section/div/div/div/div/div/div/div/div/div/div/div[11]/div/div[2]/details[1]/div[105]/a[1]'\n",
    "\n",
    "# get that article\n",
    "link = chrome_driver.find_element(\"xpath\", ratings)\n",
    "#click to open\n",
    "link.click()\n",
    "\n",
    "# read the text of article\n",
    "print(link.text)"
   ]
  },
  {
   "cell_type": "code",
   "execution_count": 11,
   "id": "27602824",
   "metadata": {},
   "outputs": [
    {
     "name": "stdout",
     "output_type": "stream",
     "text": [
      "1\n",
      "Chris Dickerson\n",
      "1041\n",
      "1054\n"
     ]
    }
   ],
   "source": [
    "# Get place, player name, and round ratings\n",
    "#place, to add to player array\n",
    "current_place = '/html/body/div[4]/section/div/div/div/div/div/div/div/div/div/div/div[11]/div/div[2]/details[1]/div[106]/table[2]/tbody/tr[1]/td[1]'\n",
    "#last tr increments\n",
    "second = '/html/body/div[4]/section/div/div/div/div/div/div/div/div/div/div/div[11]/div/div[2]/details[1]/div[106]/table[2]/tbody/tr[2]/td[1]' \n",
    "\n",
    "place = chrome_driver.find_element('xpath', current_place).text\n",
    "print(place)\n",
    "\n",
    "player = '/html/body/div[4]/section/div/div/div/div/div/div/div/div/div/div/div[11]/div/div[2]/details[1]/div[106]/table[2]/tbody/tr[1]/td[3]/a'\n",
    "#same for player name\n",
    "second_player = '/html/body/div[4]/section/div/div/div/div/div/div/div/div/div/div/div[11]/div/div[2]/details[1]/div[106]/table[2]/tbody/tr[2]/td[3]/a'\n",
    "\n",
    "name = chrome_driver.find_element('xpath', player).text\n",
    "print(name)\n",
    "\n",
    "#find first two round ratings to determine - starts at 8, skips by two\n",
    "rd1_rating = '/html/body/div[4]/section/div/div/div/div/div/div/div/div/div/div/div[11]/div/div[2]/details[1]/div[106]/table[2]/tbody/tr[1]/td[8]'\n",
    "rd2_rating = '/html/body/div[4]/section/div/div/div/div/div/div/div/div/div/div/div[11]/div/div[2]/details[1]/div[106]/table[2]/tbody/tr[1]/td[10]'\n",
    "\n",
    "rating = chrome_driver.find_element('xpath', rd1_rating).text\n",
    "rating2 = chrome_driver.find_element('xpath', rd2_rating).text\n",
    "\n",
    "print(rating)\n",
    "print(rating2)"
   ]
  },
  {
   "cell_type": "markdown",
   "id": "c41b9587",
   "metadata": {},
   "source": [
    "## Iterating through top 25  \n"
   ]
  },
  {
   "cell_type": "code",
   "execution_count": 15,
   "id": "28fd92da",
   "metadata": {},
   "outputs": [],
   "source": [
    "import numpy as np\n",
    "# create arrays to store info for dataframes\n",
    "places = np.arange(1,26)\n",
    "names = []\n",
    "rd1_ratings = []\n",
    "rd2_ratings = []\n",
    "rd3_ratings = []\n",
    "rd4_ratings = []\n"
   ]
  },
  {
   "cell_type": "code",
   "execution_count": 27,
   "id": "670f2b76",
   "metadata": {},
   "outputs": [
    {
     "name": "stdout",
     "output_type": "stream",
     "text": [
      "1 Scores:\n",
      "1041\n",
      "1 Scores:\n",
      "1054\n",
      "1 Scores:\n",
      "1054\n",
      "1 Scores:\n",
      "1060\n",
      "2 Scores:\n",
      "1054\n",
      "2 Scores:\n",
      "1060\n",
      "2 Scores:\n",
      "1047\n",
      "2 Scores:\n",
      "1035\n",
      "3 Scores:\n",
      "1054\n",
      "3 Scores:\n",
      "1041\n",
      "3 Scores:\n",
      "1060\n",
      "3 Scores:\n",
      "1035\n",
      "4 Scores:\n",
      "1060\n",
      "4 Scores:\n",
      "1028\n",
      "4 Scores:\n",
      "1047\n",
      "4 Scores:\n",
      "1047\n",
      "5 Scores:\n",
      "1035\n",
      "5 Scores:\n",
      "1028\n",
      "5 Scores:\n",
      "1035\n",
      "5 Scores:\n",
      "1073\n",
      "6 Scores:\n",
      "1054\n",
      "6 Scores:\n",
      "1028\n",
      "6 Scores:\n",
      "1035\n",
      "6 Scores:\n",
      "1054\n",
      "7 Scores:\n",
      "1022\n",
      "7 Scores:\n",
      "1054\n",
      "7 Scores:\n",
      "1028\n",
      "7 Scores:\n",
      "1067\n",
      "8 Scores:\n",
      "1028\n",
      "8 Scores:\n",
      "1047\n",
      "8 Scores:\n",
      "1060\n",
      "8 Scores:\n",
      "1035\n",
      "9 Scores:\n",
      "1035\n",
      "9 Scores:\n",
      "1054\n",
      "9 Scores:\n",
      "983\n",
      "9 Scores:\n",
      "1092\n",
      "10 Scores:\n",
      "1047\n",
      "10 Scores:\n",
      "1028\n",
      "10 Scores:\n",
      "1028\n",
      "10 Scores:\n",
      "1047\n",
      "11 Scores:\n",
      "1054\n",
      "11 Scores:\n",
      "1035\n",
      "11 Scores:\n",
      "1028\n",
      "11 Scores:\n",
      "1028\n",
      "12 Scores:\n",
      "1041\n",
      "12 Scores:\n",
      "1022\n",
      "12 Scores:\n",
      "1035\n",
      "12 Scores:\n",
      "1047\n",
      "13 Scores:\n",
      "996\n",
      "13 Scores:\n",
      "1035\n",
      "13 Scores:\n",
      "1054\n",
      "13 Scores:\n",
      "1054\n",
      "14 Scores:\n",
      "1002\n",
      "14 Scores:\n",
      "1041\n",
      "14 Scores:\n",
      "1054\n",
      "14 Scores:\n",
      "1035\n",
      "15 Scores:\n",
      "1041\n",
      "15 Scores:\n",
      "1035\n",
      "15 Scores:\n",
      "1035\n",
      "15 Scores:\n",
      "1022\n",
      "16 Scores:\n",
      "1041\n",
      "16 Scores:\n",
      "1054\n",
      "16 Scores:\n",
      "1015\n",
      "16 Scores:\n",
      "1022\n",
      "17 Scores:\n",
      "1035\n",
      "17 Scores:\n",
      "1015\n",
      "17 Scores:\n",
      "1015\n",
      "17 Scores:\n",
      "1067\n",
      "18 Scores:\n",
      "1041\n",
      "18 Scores:\n",
      "1028\n",
      "18 Scores:\n",
      "1041\n",
      "18 Scores:\n",
      "1022\n",
      "19 Scores:\n",
      "1035\n",
      "19 Scores:\n",
      "1009\n",
      "19 Scores:\n",
      "1035\n",
      "19 Scores:\n",
      "1047\n",
      "20 Scores:\n",
      "1035\n",
      "20 Scores:\n",
      "1047\n",
      "20 Scores:\n",
      "1009\n",
      "20 Scores:\n",
      "1035\n",
      "21 Scores:\n",
      "1028\n",
      "21 Scores:\n",
      "1041\n",
      "21 Scores:\n",
      "1028\n",
      "21 Scores:\n",
      "1028\n",
      "22 Scores:\n",
      "1041\n",
      "22 Scores:\n",
      "1035\n",
      "22 Scores:\n",
      "1015\n",
      "22 Scores:\n",
      "1028\n",
      "23 Scores:\n",
      "1035\n",
      "23 Scores:\n",
      "1028\n",
      "23 Scores:\n",
      "1002\n",
      "23 Scores:\n",
      "1054\n",
      "24 Scores:\n",
      "1035\n",
      "24 Scores:\n",
      "1028\n",
      "24 Scores:\n",
      "1035\n",
      "24 Scores:\n",
      "1022\n",
      "25 Scores:\n",
      "1060\n",
      "25 Scores:\n",
      "1022\n",
      "25 Scores:\n",
      "1028\n",
      "25 Scores:\n",
      "1009\n"
     ]
    }
   ],
   "source": [
    "# get info from top 25 players and add to arrays\n",
    "place = 1\n",
    "for x in range (1,26):\n",
    "    #print(f'Place {place}:') \n",
    "    #place +=1\n",
    "    name_path = f'/html/body/div[4]/section/div/div/div/div/div/div/div/div/div/div/div[11]/div/div[2]/details[1]/div[106]/table[2]/tbody/tr[{x}]/td[3]/a'\n",
    "    title = chrome_driver.find_element('xpath',name_path)\n",
    "    #add to names array\n",
    "    names.append(title.text)\n",
    "    \n",
    "    # iterating through round ratings\n",
    "    for y in range(8,16,2):\n",
    "        rd_path = f'/html/body/div[4]/section/div/div/div/div/div/div/div/div/div/div/div[11]/div/div[2]/details[1]/div[106]/table[2]/tbody/tr[{x}]/td[{y}]'\n",
    "        score = chrome_driver.find_element('xpath', rd_path).text\n",
    "        \n",
    "        if (y/2-3==1):\n",
    "            rd1_ratings.append(score)\n",
    "        elif (y/2-3==2):\n",
    "            rd2_ratings.append(score)\n",
    "        elif (y/2-3==3):\n",
    "            rd3_ratings.append(score)\n",
    "        else:\n",
    "            rd4_ratings.append(score)\n",
    "        \n",
    "        print(f'{x} Scores:')\n",
    "        print(score)\n"
   ]
  },
  {
   "cell_type": "code",
   "execution_count": 23,
   "id": "aca53a8b",
   "metadata": {},
   "outputs": [
    {
     "name": "stdout",
     "output_type": "stream",
     "text": [
      "1041\n",
      "1054\n",
      "1054\n",
      "1060\n",
      "1053\n"
     ]
    }
   ],
   "source": [
    "# for y in range(8,16,2):\n",
    "#     rd_path = f'/html/body/div[4]/section/div/div/div/div/div/div/div/div/div/div/div[11]/div/div[2]/details[1]/div[106]/table[2]/tbody/tr[{x}]/td[{y}]'\n",
    "#     score = chrome_driver.find_element('xpath', rd_path)\n",
    "#     print(score.text)\n",
    "    "
   ]
  },
  {
   "cell_type": "code",
   "execution_count": 30,
   "id": "e8de601e",
   "metadata": {},
   "outputs": [
    {
     "name": "stdout",
     "output_type": "stream",
     "text": [
      "1054\n",
      "1047\n",
      "1060\n",
      "1047\n",
      "1035\n",
      "1035\n",
      "1028\n",
      "1060\n",
      "983\n",
      "1028\n",
      "1028\n",
      "1035\n",
      "1054\n",
      "1054\n",
      "1035\n",
      "1015\n",
      "1015\n",
      "1041\n",
      "1035\n",
      "1009\n",
      "1028\n",
      "1015\n",
      "1002\n",
      "1035\n",
      "1028\n"
     ]
    }
   ],
   "source": [
    "#testing arrays\n",
    "for rating in rd3_ratings:\n",
    "    print(rating)"
   ]
  },
  {
   "cell_type": "code",
   "execution_count": 31,
   "id": "71479847",
   "metadata": {},
   "outputs": [],
   "source": [
    "## Create Dataframe from arrays\n",
    "import pandas as pd\n",
    "\n",
    "champions_cup = pd.DataFrame({\"Place\":places, \"Names\": names, \"Round_1\":rd1_ratings, \"Round_2\": rd_ratings2, })"
   ]
  },
  {
   "cell_type": "markdown",
   "id": "79597104",
   "metadata": {},
   "source": [
    "## Automate with while loop and timer"
   ]
  },
  {
   "cell_type": "code",
   "execution_count": 1,
   "id": "bd5d0e25",
   "metadata": {},
   "outputs": [
    {
     "name": "stderr",
     "output_type": "stream",
     "text": [
      "/var/folders/0y/p5wv0k811bxbr5bsf_fjdm3w0000gn/T/ipykernel_20894/95604056.py:8: DeprecationWarning: executable_path has been deprecated, please pass in a Service object\n",
      "  driver = webdriver.Chrome(PATH)\n"
     ]
    },
    {
     "name": "stdout",
     "output_type": "stream",
     "text": [
      "At current time: 00:00:51 CST\n",
      "Article Title 1: \n",
      "CJI sends recommendation to govt, Justice Uday Umesh Lalit set to be his successor\n",
      "Article Title 2: \n",
      "Chief Justice of India NV Ramana names Justice UU Lalit his successor | All You Need To Know\n",
      "Article Title 3: \n",
      "UU Lalit To Be Next Chief Justice As Name Formally Shared, Will Have 74-Day Tenure\n",
      "Article Title 4: \n",
      "CJI Ramana Proposes Justice Lalit As The Next Chief Justice of India\n",
      "Article Title 5: \n",
      "Justice UU Lalit profile\n",
      "At current time: 00:10:51 CST\n",
      "Article Title 1: \n",
      "CJI sends recommendation to govt, Justice Uday Umesh Lalit set to be his successor\n",
      "Article Title 2: \n",
      "Chief Justice of India NV Ramana names Justice UU Lalit his successor | All You Need To Know\n",
      "Article Title 3: \n",
      "UU Lalit To Be Next Chief Justice As Name Formally Shared, Will Have 74-Day Tenure\n",
      "Article Title 4: \n",
      "CJI Ramana Proposes Justice Lalit As The Next Chief Justice of India\n",
      "Article Title 5: \n",
      "Justice UU Lalit profile\n"
     ]
    },
    {
     "ename": "KeyboardInterrupt",
     "evalue": "",
     "output_type": "error",
     "traceback": [
      "\u001b[0;31m---------------------------------------------------------------------------\u001b[0m",
      "\u001b[0;31mKeyboardInterrupt\u001b[0m                         Traceback (most recent call last)",
      "Input \u001b[0;32mIn [1]\u001b[0m, in \u001b[0;36m<cell line: 15>\u001b[0;34m()\u001b[0m\n\u001b[1;32m     38\u001b[0m     art_num \u001b[38;5;241m+\u001b[39m\u001b[38;5;241m=\u001b[39m\u001b[38;5;241m1\u001b[39m\n\u001b[1;32m     40\u001b[0m \u001b[38;5;66;03m#stop while loop for ten minutes\u001b[39;00m\n\u001b[0;32m---> 41\u001b[0m \u001b[43mtime\u001b[49m\u001b[38;5;241;43m.\u001b[39;49m\u001b[43msleep\u001b[49m\u001b[43m(\u001b[49m\u001b[38;5;241;43m600\u001b[39;49m\u001b[43m)\u001b[49m\n",
      "\u001b[0;31mKeyboardInterrupt\u001b[0m: "
     ]
    }
   ],
   "source": [
    "# All in one go\n",
    "import time\n",
    "from selenium import webdriver\n",
    "from datetime import datetime\n",
    "\n",
    "PATH = '/Users/bowbrannon3/Documents/Data_Science/chromedriver'\n",
    "\n",
    "driver = webdriver.Chrome(PATH)\n",
    "url = 'https://news.google.com/topstories?hl=en-IN&gl=IN&ceid=IN:en'\n",
    "driver.get(url)\n",
    "\n",
    "while (True):\n",
    "    \n",
    "    # track changes\n",
    "    now = datetime.now()\n",
    "    current_time = now.strftime(\"%H:%M:%S\")\n",
    "    print(f'At current time: {current_time} CST')\n",
    "    \n",
    "    #get first article\n",
    "    art1_path = '/html/body/c-wiz[1]/div/div[2]/div[2]/div/main/c-wiz/div[1]/div[1]/div[3]/div/div/article/h3/a'\n",
    "    title = driver.find_element('xpath', art1_path)\n",
    "    print(f'Article Title 1: ')\n",
    "    print(title.text)\n",
    "    \n",
    "    #get next 4\n",
    "    art_num = 2\n",
    "    for x in range(1,5):\n",
    "        current_path = ''\n",
    "        \n",
    "        # handle exceptions if website changes structure\n",
    "        try:\n",
    "            current_path = f'/html/body/c-wiz[1]/div/div[2]/div[2]/div/main/c-wiz/div[1]/div[1]/div[3]/div/div/div[1]/article[{x}]/h4/a'\n",
    "        except:\n",
    "            continue\n",
    "        title = driver.find_element('xpath',current_path)\n",
    "        print(f'Article Title {art_num}: ')\n",
    "        print(title.text)\n",
    "        art_num +=1\n",
    "            \n",
    "    #stop while loop for ten minutes\n",
    "    time.sleep(600)\n",
    "    "
   ]
  },
  {
   "cell_type": "code",
   "execution_count": null,
   "id": "5b4d94c8",
   "metadata": {},
   "outputs": [],
   "source": []
  }
 ],
 "metadata": {
  "kernelspec": {
   "display_name": "Python 3 (ipykernel)",
   "language": "python",
   "name": "python3"
  },
  "language_info": {
   "codemirror_mode": {
    "name": "ipython",
    "version": 3
   },
   "file_extension": ".py",
   "mimetype": "text/x-python",
   "name": "python",
   "nbconvert_exporter": "python",
   "pygments_lexer": "ipython3",
   "version": "3.9.12"
  }
 },
 "nbformat": 4,
 "nbformat_minor": 5
}
